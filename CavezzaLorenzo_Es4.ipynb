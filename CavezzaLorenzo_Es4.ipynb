{
 "cells": [
  {
   "cell_type": "markdown",
   "id": "e48f09e7-62d2-4012-910c-c2304bcc3c15",
   "metadata": {},
   "source": [
    "## <p style=\"text-align: center;\">**Laboratory Session** : May 7, 2023</p>\n",
    "#### <p style=\"text-align: center;\">Exercises due on : May 20, 2023</p>"
   ]
  },
  {
   "cell_type": "markdown",
   "id": "9099fc7a-f81c-48da-a262-3bc478d0a018",
   "metadata": {},
   "source": [
    "**Student**: Cavezza Lorenzo <br>\n",
    "**Matricola**: 2130648"
   ]
  },
  {
   "cell_type": "code",
   "execution_count": 15,
   "id": "80888119-32dc-4bf2-8d90-5eba9a337846",
   "metadata": {},
   "outputs": [
    {
     "name": "stderr",
     "output_type": "stream",
     "text": [
      "Warning message:\n",
      "“package ‘Rlab’ was built under R version 4.3.3”\n",
      "Rlab 4.0 attached.\n",
      "\n",
      "\n",
      "Warning message in FUN(X[[i]], ...):\n",
      "“unknown type in R_decompress3”\n"
     ]
    },
    {
     "ename": "ERROR",
     "evalue": "Error in FUN(X[[i]], ...): lazy-load database '/home/lorenzocavezza/miniconda3/envs/r_env/lib/R/library/datasets/data/Rdata.rdb' is corrupt\n",
     "output_type": "error",
     "traceback": [
      "Error in FUN(X[[i]], ...): lazy-load database '/home/lorenzocavezza/miniconda3/envs/r_env/lib/R/library/datasets/data/Rdata.rdb' is corrupt\nTraceback:\n",
      "1. library(Rlab)",
      "2. checkConflicts(package, pkgname, pkgpath, nogenerics, ns)",
      "3. same.isFn(i)",
      "4. vapply(same, exists, NA, where = where, mode = \"function\", inherits = FALSE)",
      "5. FUN(X[[i]], ...)"
     ]
    }
   ],
   "source": [
    "library(Rlab)"
   ]
  },
  {
   "cell_type": "code",
   "execution_count": 45,
   "id": "4b2314c3-f832-4519-afc8-7f22ac7e962e",
   "metadata": {},
   "outputs": [],
   "source": [
    "library(ggplot2)"
   ]
  },
  {
   "cell_type": "markdown",
   "id": "428408f0-232c-4c4d-a0eb-96e77e616ff6",
   "metadata": {},
   "source": [
    "### Exercise 1"
   ]
  },
  {
   "cell_type": "markdown",
   "id": "53a323c5-ea83-4980-9609-7068c10ee6af",
   "metadata": {},
   "source": [
    "- a well established and di\u000b",
    "ffused method for detecting a disease in blood fails to detect the presence of disease in 15% of the patients that actually have the disease.\n",
    "\n",
    "- A young UniPD startUp has developed an innovative method of screening. During the qualification\n",
    "phase, a random sample of n = 75 patients known to have the disease is screened using the new\n",
    "method."
   ]
  },
  {
   "cell_type": "markdown",
   "id": "1e01c4d1-a9b8-47ce-9cf3-10f81fa1dd13",
   "metadata": {},
   "source": [
    "(a) what is the probability distribution of y, the number of times the new method fails to detect the\n",
    "disease ?"
   ]
  },
  {
   "cell_type": "code",
   "execution_count": 47,
   "id": "94b91876-ca32-463a-8406-a5a16bc2c30d",
   "metadata": {},
   "outputs": [
    {
     "data": {
      "image/png": "[encoded data removed]",
      "text/plain": [
       "plot without title"
      ]
     },
     "metadata": {
      "image/png": {
       "height": 360,
       "width": 720
      }
     },
     "output_type": "display_data"
    }
   ],
   "source": [
    "n <- 75\n",
    "p <- 0.15\n",
    "trials <- 0:n\n",
    "dist<-dbinom(trials, size = n, prob = p)\n",
    "\n",
    "options(repr.plot.width = 12,repr.plot.height = 6)\n",
    "p<-ggplot(data.frame(trials,dist), aes(x=trials, y=dist)) + \n",
    "  geom_bar(fill=\"darkblue\",stat = \"identity\")+\n",
    "labs(\n",
    "title=\"PDF of failures\",\n",
    "y=\"Probability density function\",\n",
    "x=\"N. of failures\"\n",
    ")\n",
    "p+theme_bw()+theme(plot.title = element_text(size=17,hjust = 0.5),axis.title=element_text(size=14))+\n",
    "theme(text = element_text(family = \"Times New Roman\"))\n",
    "\n"
   ]
  },
  {
   "cell_type": "markdown",
   "id": "488c9e09-6ce5-4229-b00e-48ab34731fe5",
   "metadata": {},
   "source": [
    "(b) on the n = 75 patients sample, the new method fails to detect the disease in y = 6 cases. What is\n",
    "the frequentist estimator of the failure probability of the new method ?\n"
   ]
  },
  {
   "cell_type": "code",
   "execution_count": 52,
   "id": "96a8284d-9ab3-4bf0-8512-e8acc36b44f5",
   "metadata": {},
   "outputs": [
    {
     "name": "stdout",
     "output_type": "stream",
     "text": [
      "The frequentist probability estimator is: 8 +/- 0.09 %"
     ]
    }
   ],
   "source": [
    "failures <- 6\n",
    "\n",
    "prob <- failures/n\n",
    "var <- prob*(1-prob)/n\n",
    "sd <- sqrt(var)\n",
    "\n",
    "cat('The frequentist probability estimator is:', prob*100, '+/-', round(sd*3,2) ,'%')"
   ]
  },
  {
   "cell_type": "markdown",
   "id": "dac281bf-704d-4504-974e-d776a0c772de",
   "metadata": {},
   "source": [
    "(c) setup a bayesian computation of the posterior probability, assuming a beta distribution with mean\n",
    "value 0.15 and standard deviation 0.14. Plot the posterior distribution for y, and mark on the plot\n",
    "the mean value and variance"
   ]
  },
  {
   "cell_type": "code",
   "execution_count": null,
   "id": "ba103395-564c-49b2-b95b-17ece0bc1be8",
   "metadata": {},
   "outputs": [],
   "source": []
  },
  {
   "cell_type": "markdown",
   "id": "db6cbd51-8285-4c15-8f28-bc8c354a35b0",
   "metadata": {},
   "source": [
    "(d) Perform a test of hypothesis assuming that if the probability of failing to the detect the desease in\n",
    "ill patients is greater or equal than 15%, the new test is no better that the traditional method. Test\n",
    "the sample at a 5% level of significance in the Bayesian way."
   ]
  },
  {
   "cell_type": "code",
   "execution_count": null,
   "id": "d48b6f60-3caa-4807-bd17-c63bfbcda6bf",
   "metadata": {},
   "outputs": [],
   "source": []
  },
  {
   "cell_type": "markdown",
   "id": "32cf3b0b-c8b8-4d80-8967-c6da72c22aef",
   "metadata": {},
   "source": [
    "(e) Perform the same hypothesis test in the classical frequentist way."
   ]
  },
  {
   "cell_type": "code",
   "execution_count": null,
   "id": "80c376b0-1d17-498a-a27f-093a735beb00",
   "metadata": {},
   "outputs": [],
   "source": []
  },
  {
   "cell_type": "markdown",
   "id": "d0ccb624-2a0c-4ad5-b431-063aa7ac941c",
   "metadata": {},
   "source": [
    "### Exercise 2"
   ]
  },
  {
   "cell_type": "markdown",
   "id": "2cada076-0b7a-4623-9e3e-a6e85d88e6fa",
   "metadata": {},
   "source": [
    "- a researcher has collected n = 16 observations that are supposed to come from a Normal distribution\n",
    "with known variance \u001b$\\sigma^2$ = 4:\n",
    "\n",
    "      4.09 4.68 1.87 2.62 5.58 8.68 4.07 4.78\n",
    "      4.79 4.49 5.85 5.09 2.40 6.27 6.30 4.47"
   ]
  },
  {
   "cell_type": "markdown",
   "id": "994dae4a-d733-4e11-9965-09b43ced3cb3",
   "metadata": {},
   "source": [
    "- assuming the prior is a step funtion:"
   ]
  },
  {
   "cell_type": "markdown",
   "id": "2e8a5c24-7741-49b3-8232-5fe211c4fb78",
   "metadata": {},
   "source": [
    "(a) find the posterior distribution, the posterior mean and standard deviation"
   ]
  },
  {
   "cell_type": "markdown",
   "id": "e7138654-54ae-4c40-9c60-e16446089f55",
   "metadata": {},
   "source": [
    "(b) find the 95% credibility interval for \u0016$\\mu$"
   ]
  },
  {
   "cell_type": "markdown",
   "id": "3650ef60-2773-4da6-ac31-840162a40701",
   "metadata": {},
   "source": [
    "(c) plot the posterior distribution, indicating on the same plot: the mean value, the standard deviation,\n",
    "and the 95% credibility interval"
   ]
  },
  {
   "cell_type": "markdown",
   "id": "fb444518-0c68-40f4-871d-9b6368f2257e",
   "metadata": {},
   "source": [
    "(d) plot, on the same graph, the prior, the likelihood and the posterior distribution"
   ]
  },
  {
   "cell_type": "markdown",
   "id": "8d426f0e-0e4a-4edd-993c-3b7be21c7e7c",
   "metadata": {},
   "source": [
    "### Exercise 3"
   ]
  },
  {
   "cell_type": "markdown",
   "id": "421641d0-9932-46a0-ac62-f77a6af1f3a0",
   "metadata": {},
   "source": [
    "Exercise 3 - Six Boxes Toy Model : inference\n",
    "\u000f- The six boxes toy model is described in reference.\n",
    "\u000f- Labeling the boxes as follows\n",
    "\n",
    "\u0007 \u0007 \u0007 \b\u0007 \u0007 \u0007 \u0007 \u0007\n",
    "\u000fWrite a program in R that:\n",
    "1) selects a random box"
   ]
  },
  {
   "cell_type": "code",
   "execution_count": 5,
   "id": "e85cf1b7-07b3-4953-bd4c-d9304e041f77",
   "metadata": {},
   "outputs": [],
   "source": [
    "set.seed(89540)"
   ]
  },
  {
   "cell_type": "code",
   "execution_count": 8,
   "id": "1eb617d8-f381-4d5e-986e-8c9b92268492",
   "metadata": {},
   "outputs": [],
   "source": [
    "p<-c(0,1/5,2/5,3/5,4/5,1)\n",
    "p_chosen<-sample(p,1)"
   ]
  },
  {
   "cell_type": "markdown",
   "id": "489dfb01-4bf3-4a9a-b47d-e11142df0890",
   "metadata": {},
   "source": [
    "2) makes random sampling from the box"
   ]
  },
  {
   "cell_type": "code",
   "execution_count": 57,
   "id": "ce925115-7151-4ce4-9736-1900c8e2e73f",
   "metadata": {},
   "outputs": [],
   "source": [
    "stone_chosen<-round(runif(1,0,1),0)\n",
    "\n",
    "if (stone_chosen>=p_chosen){\n",
    "stone_chosen<-1}\n",
    "if (stone_chosen<p_chosen){\n",
    "stone_chosen<-0}"
   ]
  },
  {
   "cell_type": "markdown",
   "id": "a4a34648-1758-4cdd-ba96-d1122c8ac3ce",
   "metadata": {},
   "source": [
    "3) prints on the standard output the probability of selecting each box"
   ]
  },
  {
   "cell_type": "code",
   "execution_count": null,
   "id": "193b1f10-dcae-4ee7-a5ef-ce44f3f5cad1",
   "metadata": {},
   "outputs": [],
   "source": []
  },
  {
   "cell_type": "markdown",
   "id": "459bc37b-d4f4-4602-828a-02ed1d8ff65f",
   "metadata": {},
   "source": [
    "4) plots the probability for each"
   ]
  },
  {
   "cell_type": "markdown",
   "id": "c02e51e5-ef16-481e-9dbe-2437721f8ab8",
   "metadata": {},
   "source": []
  }
 ],
 "metadata": {
  "kernelspec": {
   "display_name": "R",
   "language": "R",
   "name": "ir"
  },
  "language_info": {
   "codemirror_mode": "r",
   "file_extension": ".r",
   "mimetype": "text/x-r-source",
   "name": "R",
   "pygments_lexer": "r",
   "version": "4.3.1"
  }
 },
 "nbformat": 4,
 "nbformat_minor": 5
}
